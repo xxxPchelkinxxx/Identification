{
 "cells": [
  {
   "cell_type": "code",
   "execution_count": 1,
   "metadata": {},
   "outputs": [],
   "source": [
    "import dlib\n",
    "from skimage import io\n",
    "from scipy.spatial import distance"
   ]
  },
  {
   "cell_type": "code",
   "execution_count": 2,
   "metadata": {},
   "outputs": [],
   "source": [
    "sp = dlib.shape_predictor('shape_predictor_68_face_landmarks.dat')\n",
    "facerec = dlib.face_recognition_model_v1('dlib_face_recognition_resnet_model_v1.dat')\n",
    "detector = dlib.get_frontal_face_detector()\n"
   ]
  },
  {
   "cell_type": "code",
   "execution_count": 3,
   "metadata": {},
   "outputs": [],
   "source": [
    "# Dodajemy pierwsze zdjęcie\n",
    "img = io.imread('Shershen-before1.jpg')"
   ]
  },
  {
   "cell_type": "code",
   "execution_count": 4,
   "metadata": {},
   "outputs": [],
   "source": [
    "#Wyświetliamy zdjęcia za pomocą biblioteki dlib\n",
    "win1 = dlib.image_window()\n",
    "win1.clear_overlay()\n",
    "win1.set_image(img)"
   ]
  },
  {
   "cell_type": "code",
   "execution_count": 5,
   "metadata": {},
   "outputs": [],
   "source": [
    "#Znachodzimy twarz na zdjęciu\n",
    "dets = detector(img, 1)"
   ]
  },
  {
   "cell_type": "code",
   "execution_count": 6,
   "metadata": {},
   "outputs": [
    {
     "name": "stdout",
     "output_type": "stream",
     "text": [
      "Detection 0: Left: 115 Top: 80 Right: 223 Bottom: 187\n"
     ]
    }
   ],
   "source": [
    "for k, d in enumerate(dets):\n",
    "    print(\"Detection {}: Left: {} Top: {} Right: {} Bottom: {}\".format(\n",
    "        k, d.left(), d.top(), d.right(), d.bottom()))\n",
    "    shape = sp(img, d)\n",
    "    win1.clear_overlay()\n",
    "    win1.add_overlay(d)\n",
    "    win1.add_overlay(shape)"
   ]
  },
  {
   "cell_type": "code",
   "execution_count": 7,
   "metadata": {},
   "outputs": [],
   "source": [
    "#Pobieramy deskryptor z twarzy\n",
    "face_descriptor1 = facerec.compute_face_descriptor(img, shape)"
   ]
  },
  {
   "cell_type": "code",
   "execution_count": 8,
   "metadata": {},
   "outputs": [
    {
     "name": "stdout",
     "output_type": "stream",
     "text": [
      "-0.141613\n",
      "0.100694\n",
      "0.111005\n",
      "-0.0230259\n",
      "-0.0352738\n",
      "0.0355772\n",
      "0.0332077\n",
      "-0.0678042\n",
      "0.229723\n",
      "-0.084438\n",
      "0.228186\n",
      "-0.0143735\n",
      "-0.295466\n",
      "0.0884518\n",
      "-0.0361735\n",
      "0.0912009\n",
      "-0.117643\n",
      "-0.0332129\n",
      "-0.108325\n",
      "-0.158573\n",
      "0.0181588\n",
      "0.065425\n",
      "0.00583858\n",
      "-0.000836724\n",
      "-0.183949\n",
      "-0.22374\n",
      "-0.0514334\n",
      "-0.0715696\n",
      "0.0554506\n",
      "-0.207857\n",
      "0.0135507\n",
      "0.0488901\n",
      "-0.15734\n",
      "-0.085565\n",
      "0.0589873\n",
      "0.0807777\n",
      "-0.0951224\n",
      "-0.0748471\n",
      "0.228569\n",
      "-0.0131685\n",
      "-0.123482\n",
      "-0.00162521\n",
      "0.0595974\n",
      "0.289179\n",
      "0.1202\n",
      "-0.000274585\n",
      "-0.0342259\n",
      "-0.194895\n",
      "0.188671\n",
      "-0.283229\n",
      "0.0639712\n",
      "0.138549\n",
      "0.123565\n",
      "0.136132\n",
      "0.0652641\n",
      "-0.126452\n",
      "0.0488144\n",
      "0.133958\n",
      "-0.156486\n",
      "0.100956\n",
      "0.178045\n",
      "-0.106385\n",
      "-0.0358708\n",
      "-0.0299868\n",
      "0.100433\n",
      "0.037794\n",
      "-0.125536\n",
      "-0.112418\n",
      "0.127244\n",
      "-0.100899\n",
      "-0.0330902\n",
      "0.145703\n",
      "-0.0671943\n",
      "-0.215865\n",
      "-0.259341\n",
      "0.0955336\n",
      "0.369859\n",
      "0.131922\n",
      "-0.133046\n",
      "-0.056806\n",
      "-0.0908595\n",
      "-0.0117344\n",
      "0.0218714\n",
      "0.0754111\n",
      "-0.128613\n",
      "-0.0966017\n",
      "-0.00499941\n",
      "0.0946666\n",
      "0.237184\n",
      "0.00625121\n",
      "-0.0420859\n",
      "0.166683\n",
      "0.0596183\n",
      "0.000929512\n",
      "-0.0110751\n",
      "0.11225\n",
      "-0.175343\n",
      "-0.0535054\n",
      "-0.152311\n",
      "-0.00970987\n",
      "0.037295\n",
      "-0.0638052\n",
      "0.00336811\n",
      "0.177539\n",
      "-0.26518\n",
      "0.259685\n",
      "-0.0128051\n",
      "-0.121269\n",
      "0.046935\n",
      "-0.034079\n",
      "-0.0668937\n",
      "0.0338088\n",
      "0.167205\n",
      "-0.286549\n",
      "0.169632\n",
      "0.195204\n",
      "0.0832149\n",
      "0.110195\n",
      "0.0219913\n",
      "0.033395\n",
      "0.0272381\n",
      "0.034919\n",
      "-0.159067\n",
      "-0.110818\n",
      "0.0585454\n",
      "-0.0272502\n",
      "-0.0156371\n",
      "-0.0537092\n"
     ]
    }
   ],
   "source": [
    "#Drukujemy deskryptor\n",
    "print(face_descriptor1)"
   ]
  },
  {
   "cell_type": "code",
   "execution_count": 9,
   "metadata": {},
   "outputs": [
    {
     "name": "stdout",
     "output_type": "stream",
     "text": [
      "Detection 0: Left: 110 Top: 96 Right: 239 Bottom: 225\n"
     ]
    }
   ],
   "source": [
    "#Dodajemy i przetworzamy drugie zdjęcie\n",
    "img = io.imread('person2.jpg')\n",
    "win2 = dlib.image_window()\n",
    "win2.clear_overlay()\n",
    "win2.set_image(img)\n",
    "dets_webcam = detector(img, 1)\n",
    "for k, d in enumerate(dets_webcam):\n",
    "    print(\"Detection {}: Left: {} Top: {} Right: {} Bottom: {}\".format(\n",
    "        k, d.left(), d.top(), d.right(), d.bottom()))\n",
    "    shape = sp(img, d)\n",
    "    win2.clear_overlay()\n",
    "    win2.add_overlay(d)\n",
    "    win2.add_overlay(shape)"
   ]
  },
  {
   "cell_type": "code",
   "execution_count": 10,
   "metadata": {},
   "outputs": [],
   "source": [
    "face_descriptor2 = facerec.compute_face_descriptor(img, shape)"
   ]
  },
  {
   "cell_type": "code",
   "execution_count": 11,
   "metadata": {},
   "outputs": [
    {
     "name": "stdout",
     "output_type": "stream",
     "text": [
      "0.8073222382414182\n"
     ]
    }
   ],
   "source": [
    "#Obliczamy odległość Euklidesową między dwoma deskryptorami twarzy\n",
    "a = distance.euclidean(face_descriptor1, face_descriptor2)\n",
    "print(a)"
   ]
  },
  {
   "cell_type": "code",
   "execution_count": null,
   "metadata": {},
   "outputs": [],
   "source": []
  },
  {
   "cell_type": "code",
   "execution_count": null,
   "metadata": {},
   "outputs": [],
   "source": []
  }
 ],
 "metadata": {
  "kernelspec": {
   "display_name": "Python 3",
   "language": "python",
   "name": "python3"
  },
  "language_info": {
   "codemirror_mode": {
    "name": "ipython",
    "version": 3
   },
   "file_extension": ".py",
   "mimetype": "text/x-python",
   "name": "python",
   "nbconvert_exporter": "python",
   "pygments_lexer": "ipython3",
   "version": "3.7.4"
  }
 },
 "nbformat": 4,
 "nbformat_minor": 2
}
